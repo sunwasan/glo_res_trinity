{
 "cells": [
  {
   "cell_type": "code",
   "execution_count": 2,
   "metadata": {},
   "outputs": [
    {
     "data": {
      "text/plain": [
       "True"
      ]
     },
     "execution_count": 2,
     "metadata": {},
     "output_type": "execute_result"
    }
   ],
   "source": [
    "import requests \n",
    "from dotenv import load_dotenv\n",
    "import os \n",
    "\n",
    "load_dotenv()\n",
    "\n"
   ]
  },
  {
   "cell_type": "code",
   "execution_count": 5,
   "metadata": {},
   "outputs": [],
   "source": [
    "CHANNEL_ACCESS_TOKEN = os.getenv(\"CHANNEL_ACCESS_TOKEN\")\n",
    "userId = \"Ue834c0058e991257b0790434d0b6926e\""
   ]
  },
  {
   "cell_type": "code",
   "execution_count": null,
   "metadata": {},
   "outputs": [],
   "source": [
    "https://api.line.me/v2/bot/profile/{userId}"
   ]
  },
  {
   "cell_type": "code",
   "execution_count": 7,
   "metadata": {},
   "outputs": [],
   "source": [
    "r = requests.get(f\"https://api.line.me/v2/bot/profile/{userId}\", headers={\n",
    "    \"Authorization\": f\"Bearer {CHANNEL_ACCESS_TOKEN}\"\n",
    "})"
   ]
  },
  {
   "cell_type": "code",
   "execution_count": 8,
   "metadata": {},
   "outputs": [
    {
     "data": {
      "text/plain": [
       "{'userId': 'Ue834c0058e991257b0790434d0b6926e',\n",
       " 'displayName': 'Wasan',\n",
       " 'pictureUrl': 'https://sprofile.line-scdn.net/0hoSoGK-2AMHxCPiB4HvpOAzJuMxZhT2luZlF2GiJubB8tByAsblp_SSc5ZhwsXSUrPlAoHnM_bUhOLUcaXGjMSEUObU1-CnApblp_nw',\n",
       " 'statusMessage': '0623625323',\n",
       " 'language': 'en'}"
      ]
     },
     "execution_count": 8,
     "metadata": {},
     "output_type": "execute_result"
    }
   ],
   "source": [
    "r.json()"
   ]
  }
 ],
 "metadata": {
  "kernelspec": {
   "display_name": "mainvenv",
   "language": "python",
   "name": "python3"
  },
  "language_info": {
   "codemirror_mode": {
    "name": "ipython",
    "version": 3
   },
   "file_extension": ".py",
   "mimetype": "text/x-python",
   "name": "python",
   "nbconvert_exporter": "python",
   "pygments_lexer": "ipython3",
   "version": "3.12.2"
  }
 },
 "nbformat": 4,
 "nbformat_minor": 2
}
