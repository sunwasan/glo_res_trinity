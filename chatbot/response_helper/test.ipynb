{
 "cells": [
  {
   "cell_type": "code",
   "execution_count": 3,
   "metadata": {},
   "outputs": [],
   "source": [
    "import os\n",
    "import sys\n",
    "\n",
    "file_dir = os.getcwd()\n",
    "chatbot_dir = os.path.join(file_dir, '..')\n",
    "bloomberg_dir = os.path.join(chatbot_dir, '..')\n",
    "dirs = [chatbot_dir, bloomberg_dir, file_dir]\n",
    "\n",
    "sys.path.extend(d for d in dirs if d not in sys.path)\n",
    "\n",
    "import polars as pl \n",
    "import pandas as pd \n",
    "import json \n",
    "\n",
    "data_dir = os.path.join(bloomberg_dir,'data')\n",
    "\n",
    "from Flex import Flex\n",
    "from helpers.Database import Database\n",
    "import warnings \n",
    "\n",
    "warnings.filterwarnings('ignore')\n",
    "\n",
    "sym = 'KBANK'\n",
    "flex = Flex(sym)\n",
    "\n",
    "broker_list = pl.read_csv(os.path.join(data_dir, 'broker.csv')).to_pandas()\n",
    "type_dict = broker_list[['broker', 'type']].set_index('broker').to_dict()['type']"
   ]
  },
  {
   "cell_type": "code",
   "execution_count": 4,
   "metadata": {},
   "outputs": [],
   "source": [
    "db = Database()\n",
    "year_df = db.query(f\"SELECT * FROM bloomberg WHERE symbol = '{sym}' AND YEAR(date) = YEAR(CURDATE())\")\n",
    "year_df['date'] = pd.to_datetime(year_df['date'])\n",
    "\n",
    "\n",
    "year_df['type'] = year_df['broker'].map(type_dict)\n",
    "\n",
    "# ---------------------------------- Average --------------------------------- #\n",
    "avg_sep = year_df.pivot_table(index='type', values ='target', aggfunc='mean').rename(columns = {'target': \"Average Target Price\"}).round(2)\n",
    "avg_sep_local = avg_sep.loc[['local']].T.reset_index().T.reset_index(drop=True)\n",
    "avg_sep_foreign = avg_sep.loc[['foreign']].T.reset_index().T.reset_index(drop=True)\n",
    "# ----------------------------------- Mode ----------------------------------- #\n",
    "mode_sep = year_df.pivot_table(index=['type','comment'] , aggfunc='count')['analyst'].reset_index()\\\n",
    "            .groupby('type').apply(lambda x: x.sort_values('analyst', ascending=False).head(1))\n",
    "            \n",
    "mode_sep['Most Common Comment'] = mode_sep['comment'] + ' (' + mode_sep['analyst'].astype(str) + ')'\n",
    "mode_sep_foreign = mode_sep.loc[['foreign'], ['Most Common Comment']].T.reset_index().T.reset_index(drop=True).T\n",
    "mode_sep_local = mode_sep.loc[['local'], ['Most Common Comment']].T.reset_index().T.reset_index(drop=True).T"
   ]
  },
  {
   "cell_type": "code",
   "execution_count": 72,
   "metadata": {},
   "outputs": [],
   "source": [
    "# ------------------------------- IM Component ------------------------------- #\n",
    "im = pl.read_csv(os.path.join(data_dir, 'im.csv')).to_pandas()\n",
    "im_df = im[im['symbol'] == sym]\n",
    "\n",
    "im_df.drop(columns=['symbol'], inplace=True)\n",
    "im_df.columns = ['ขั้นต่ำ', 'Leverage', 'ใช้เงิน']\n",
    "\n",
    "im_df['ขั้นต่ำ'] = im_df['ขั้นต่ำ'].apply(lambda x: f'{x:,.0f}')\n",
    "im_df['ใช้เงิน'] = im_df['ใช้เงิน'].apply(lambda x: f'{x:,.0f}')\n",
    "im_df['Leverage'] = im_df['Leverage'].apply(lambda x: f'{x}')\n",
    "im_df = im_df.T.reset_index()\n",
    "im_df = im_df.T.reset_index(drop=True).T"
   ]
  },
  {
   "cell_type": "code",
   "execution_count": 76,
   "metadata": {},
   "outputs": [],
   "source": [
    "im_df[2] = ['สัญญา', 'เท่า', 'บาท']"
   ]
  },
  {
   "cell_type": "code",
   "execution_count": 77,
   "metadata": {},
   "outputs": [
    {
     "data": {
      "text/html": [
       "<div>\n",
       "<style scoped>\n",
       "    .dataframe tbody tr th:only-of-type {\n",
       "        vertical-align: middle;\n",
       "    }\n",
       "\n",
       "    .dataframe tbody tr th {\n",
       "        vertical-align: top;\n",
       "    }\n",
       "\n",
       "    .dataframe thead th {\n",
       "        text-align: right;\n",
       "    }\n",
       "</style>\n",
       "<table border=\"1\" class=\"dataframe\">\n",
       "  <thead>\n",
       "    <tr style=\"text-align: right;\">\n",
       "      <th></th>\n",
       "      <th>0</th>\n",
       "      <th>1</th>\n",
       "      <th>2</th>\n",
       "    </tr>\n",
       "  </thead>\n",
       "  <tbody>\n",
       "    <tr>\n",
       "      <th>0</th>\n",
       "      <td>ขั้นต่ำ</td>\n",
       "      <td>20</td>\n",
       "      <td>สัญญา</td>\n",
       "    </tr>\n",
       "    <tr>\n",
       "      <th>1</th>\n",
       "      <td>Leverage</td>\n",
       "      <td>19.07</td>\n",
       "      <td>เท่า</td>\n",
       "    </tr>\n",
       "    <tr>\n",
       "      <th>2</th>\n",
       "      <td>ใช้เงิน</td>\n",
       "      <td>137,900</td>\n",
       "      <td>บาท</td>\n",
       "    </tr>\n",
       "  </tbody>\n",
       "</table>\n",
       "</div>"
      ],
      "text/plain": [
       "          0        1      2\n",
       "0   ขั้นต่ำ       20  สัญญา\n",
       "1  Leverage    19.07   เท่า\n",
       "2   ใช้เงิน  137,900    บาท"
      ]
     },
     "execution_count": 77,
     "metadata": {},
     "output_type": "execute_result"
    }
   ],
   "source": [
    "im_df"
   ]
  }
 ],
 "metadata": {
  "kernelspec": {
   "display_name": "mainvenv",
   "language": "python",
   "name": "python3"
  },
  "language_info": {
   "codemirror_mode": {
    "name": "ipython",
    "version": 3
   },
   "file_extension": ".py",
   "mimetype": "text/x-python",
   "name": "python",
   "nbconvert_exporter": "python",
   "pygments_lexer": "ipython3",
   "version": "3.12.2"
  }
 },
 "nbformat": 4,
 "nbformat_minor": 2
}
